{
 "cells": [
  {
   "cell_type": "markdown",
   "id": "c0e23db8-c86c-4c7b-b4d2-c0c4b06b8342",
   "metadata": {},
   "source": [
    "Задание\\\n",
    "https://abcontest.matemarketing.ru/#rec744235402"
   ]
  },
  {
   "cell_type": "markdown",
   "id": "e7dd0239",
   "metadata": {},
   "source": [
    "Видео\\\n",
    "https://www.youtube.com/watch?v=z6DSVeWyVIk"
   ]
  },
  {
   "cell_type": "code",
   "execution_count": 72,
   "id": "b019c4bf-7ce7-499d-9c06-f1a723c6685f",
   "metadata": {},
   "outputs": [],
   "source": [
    "import numpy as np\n",
    "import pandas as pd"
   ]
  },
  {
   "cell_type": "markdown",
   "id": "5fe504f3-53c7-4a54-8fd6-5d845dd4c27a",
   "metadata": {},
   "source": [
    "## Расмотрим выборку"
   ]
  },
  {
   "cell_type": "code",
   "execution_count": 73,
   "id": "16136129",
   "metadata": {},
   "outputs": [],
   "source": [
    "file_path = r\"Контест_Аха_Самокат_тех_данные_по_мошенникам.csv\""
   ]
  },
  {
   "cell_type": "code",
   "execution_count": 74,
   "id": "2a06590f-0966-4f98-8f25-5f4b4e40a2e5",
   "metadata": {},
   "outputs": [
    {
     "name": "stdout",
     "output_type": "stream",
     "text": [
      "Размер:  (35000, 5)\n"
     ]
    },
    {
     "data": {
      "text/html": [
       "<div>\n",
       "<style scoped>\n",
       "    .dataframe tbody tr th:only-of-type {\n",
       "        vertical-align: middle;\n",
       "    }\n",
       "\n",
       "    .dataframe tbody tr th {\n",
       "        vertical-align: top;\n",
       "    }\n",
       "\n",
       "    .dataframe thead th {\n",
       "        text-align: right;\n",
       "    }\n",
       "</style>\n",
       "<table border=\"1\" class=\"dataframe\">\n",
       "  <thead>\n",
       "    <tr style=\"text-align: right;\">\n",
       "      <th></th>\n",
       "      <th>registration_date</th>\n",
       "      <th>activation_date</th>\n",
       "      <th>merchant_id</th>\n",
       "      <th>type</th>\n",
       "      <th>ind_frod</th>\n",
       "    </tr>\n",
       "  </thead>\n",
       "  <tbody>\n",
       "    <tr>\n",
       "      <th>0</th>\n",
       "      <td>16.12.2023</td>\n",
       "      <td>24.12.2023</td>\n",
       "      <td>1</td>\n",
       "      <td>IE</td>\n",
       "      <td>0.0</td>\n",
       "    </tr>\n",
       "  </tbody>\n",
       "</table>\n",
       "</div>"
      ],
      "text/plain": [
       "  registration_date activation_date  merchant_id type  ind_frod\n",
       "0        16.12.2023      24.12.2023            1   IE       0.0"
      ]
     },
     "execution_count": 74,
     "metadata": {},
     "output_type": "execute_result"
    }
   ],
   "source": [
    "df = pd.read_csv(file_path, sep=';',  low_memory=False)\n",
    "df.columns = [x.lower() for x in df.columns]\n",
    "print('Размер: ', df.shape)\n",
    "df.head(1)"
   ]
  },
  {
   "cell_type": "markdown",
   "id": "f2695ccc-7023-4b69-b833-e2066682761d",
   "metadata": {},
   "source": [
    "## Предобработка данных"
   ]
  },
  {
   "cell_type": "markdown",
   "id": "3aafaed0-2ed4-4a56-8fea-a6a266091552",
   "metadata": {},
   "source": [
    "Приведем данные к типу DATE"
   ]
  },
  {
   "cell_type": "markdown",
   "id": "ad4204e1-f08b-4058-8997-bb108e4b1d78",
   "metadata": {},
   "source": [
    "Дата регистрации и дата активации"
   ]
  },
  {
   "cell_type": "code",
   "execution_count": 75,
   "id": "a29018fb",
   "metadata": {},
   "outputs": [],
   "source": [
    "df['registration'] = pd.to_datetime(df['registration_date'], format='%d.%m.%Y')\\\n",
    "                                   .dt.normalize()\n",
    "\n",
    "df['activation'] = pd.to_datetime(df['activation_date'], format='%d.%m.%Y')\\\n",
    "                                   .dt.normalize()"
   ]
  },
  {
   "cell_type": "markdown",
   "id": "e1d13c98-973e-4e99-9eba-cb7109eec3d6",
   "metadata": {},
   "source": [
    "Введем дополнительные метрики"
   ]
  },
  {
   "cell_type": "markdown",
   "id": "da435d9c-f077-4e82-8da2-00db7811f3dd",
   "metadata": {},
   "source": [
    "Месяц регистрации"
   ]
  },
  {
   "cell_type": "code",
   "execution_count": 76,
   "id": "87dc2c2e-cd70-4639-9b78-c93425453dd3",
   "metadata": {},
   "outputs": [],
   "source": [
    "df['registration_m'] = df['registration'].dt.strftime('%Y-%m-01') "
   ]
  },
  {
   "cell_type": "markdown",
   "id": "6ff9b4e0-cd54-419d-a958-86a55528b5e7",
   "metadata": {},
   "source": [
    "Индикатор активации"
   ]
  },
  {
   "cell_type": "code",
   "execution_count": 77,
   "id": "edc2d284-e4f0-4810-b823-72639eb9b66b",
   "metadata": {},
   "outputs": [],
   "source": [
    "df['activation_ind'] = np.where(df['activation_date'].notnull(), 1, 0)"
   ]
  },
  {
   "cell_type": "markdown",
   "id": "3c6ca290-ab76-4398-a479-83c8fad5728a",
   "metadata": {},
   "source": [
    "Время активации как разница между регистрацией и активацией выраженный в днях"
   ]
  },
  {
   "cell_type": "code",
   "execution_count": 78,
   "id": "6ff796de-e754-47ac-9507-405a38cc6557",
   "metadata": {},
   "outputs": [],
   "source": [
    "df['activation_time'] = (df['activation'] - df['registration']).dt.days"
   ]
  },
  {
   "cell_type": "markdown",
   "id": "d96bd508-03fc-4551-954b-3945ae9c5552",
   "metadata": {},
   "source": [
    "Рассмотрим распределение регистраций/активаций по месяцам\n",
    "> Данные распределены равномерно. Есть аномальные значения за 1970-01-01. Вероятно сбой процесса регистрации, проставление дефолтного значения.\n",
    "> Доля незначительная. Далее исключим данные строки из сета. "
   ]
  },
  {
   "cell_type": "code",
   "execution_count": 79,
   "id": "6e9cdfe1-e4e5-442f-87ec-178998b881c6",
   "metadata": {},
   "outputs": [
    {
     "data": {
      "text/html": [
       "<div>\n",
       "<style scoped>\n",
       "    .dataframe tbody tr th:only-of-type {\n",
       "        vertical-align: middle;\n",
       "    }\n",
       "\n",
       "    .dataframe tbody tr th {\n",
       "        vertical-align: top;\n",
       "    }\n",
       "\n",
       "    .dataframe thead th {\n",
       "        text-align: right;\n",
       "    }\n",
       "</style>\n",
       "<table border=\"1\" class=\"dataframe\">\n",
       "  <thead>\n",
       "    <tr style=\"text-align: right;\">\n",
       "      <th></th>\n",
       "      <th>registration_m</th>\n",
       "      <th>registration</th>\n",
       "      <th>activation</th>\n",
       "      <th>ind_frod</th>\n",
       "    </tr>\n",
       "  </thead>\n",
       "  <tbody>\n",
       "    <tr>\n",
       "      <th>0</th>\n",
       "      <td>1970-01-01</td>\n",
       "      <td>175</td>\n",
       "      <td>86</td>\n",
       "      <td>14.0</td>\n",
       "    </tr>\n",
       "    <tr>\n",
       "      <th>1</th>\n",
       "      <td>2023-01-01</td>\n",
       "      <td>2888</td>\n",
       "      <td>1717</td>\n",
       "      <td>206.0</td>\n",
       "    </tr>\n",
       "  </tbody>\n",
       "</table>\n",
       "</div>"
      ],
      "text/plain": [
       "  registration_m  registration  activation  ind_frod\n",
       "0     1970-01-01           175          86      14.0\n",
       "1     2023-01-01          2888        1717     206.0"
      ]
     },
     "execution_count": 79,
     "metadata": {},
     "output_type": "execute_result"
    }
   ],
   "source": [
    "df.groupby('registration_m', dropna=False)\\\n",
    "    .agg({'registration': 'count', 'activation': 'count', 'ind_frod': 'sum'})\\\n",
    "    .reset_index().head(2)"
   ]
  },
  {
   "cell_type": "markdown",
   "id": "8f914b8f-3fa1-4d5c-92b5-40c3bc7233b9",
   "metadata": {},
   "source": [
    "Пропущенные значения"
   ]
  },
  {
   "cell_type": "markdown",
   "id": "bd5d0d12-6c61-4ab2-91b3-41c27893a0df",
   "metadata": {},
   "source": [
    "Для ind_frod есть 700 строк без значений. Вероятно старая модель не определила индекс. Доля незначительная. Исключим данные строки из сета."
   ]
  },
  {
   "cell_type": "code",
   "execution_count": 80,
   "id": "be1e5619-964d-4909-8357-c87c0cb074ff",
   "metadata": {},
   "outputs": [
    {
     "data": {
      "text/plain": [
       "700"
      ]
     },
     "execution_count": 80,
     "metadata": {},
     "output_type": "execute_result"
    }
   ],
   "source": [
    "df.ind_frod.isna().sum()"
   ]
  },
  {
   "cell_type": "markdown",
   "id": "18a788cd-407a-4839-8ec7-1ea9764569e4",
   "metadata": {},
   "source": [
    "Рассмотрим распределение времении активации выраженную в днях, как разницу между датой активации и регистрации\\\n",
    "Применяем фильтры на предыдущих шагах по регистрации и активации\\\n",
    "Есть отрицательные значения. 19 строк. Исключим данные строки из сета."
   ]
  },
  {
   "cell_type": "code",
   "execution_count": 81,
   "id": "5bbd8a26",
   "metadata": {},
   "outputs": [
    {
     "data": {
      "text/plain": [
       "19"
      ]
     },
     "execution_count": 81,
     "metadata": {},
     "output_type": "execute_result"
    }
   ],
   "source": [
    "df[(df['activation']\\\n",
    "        .notnull()) & (df['registration_date'] != '1970-01-01') & (df['activation_time'] < 0)]\\\n",
    "        .registration.count()"
   ]
  },
  {
   "cell_type": "markdown",
   "id": "f79fe024-c185-429c-a5ca-64940db51e6e",
   "metadata": {},
   "source": [
    "#### Фильтр. Исключаем выбросы.\n",
    "Сет после применения фильтров. Количество строк: 35000 -> 34108"
   ]
  },
  {
   "cell_type": "code",
   "execution_count": 82,
   "id": "2a1e124e-84c4-46c4-9bb4-86d6c4b9b47a",
   "metadata": {},
   "outputs": [],
   "source": [
    "df_f = df[\n",
    "    (df['registration_m'] != '1970-01-01') & \n",
    "    (df['ind_frod'].notnull()) &\n",
    "    ((df['activation_time'].isnull()) | (df['activation_time'] > 0))\n",
    "]"
   ]
  },
  {
   "cell_type": "markdown",
   "id": "fb635ca9-7188-474c-b5f7-5ebc753f99c7",
   "metadata": {},
   "source": [
    "## 1. Методология и дизайн теста"
   ]
  },
  {
   "cell_type": "markdown",
   "id": "06bcb9d6-07b7-4432-88a8-58bf00fad8e9",
   "metadata": {},
   "source": [
    "#### Основная метрика (дополнительные метрики) и принцип разделения на группы."
   ]
  },
  {
   "cell_type": "markdown",
   "id": "704a0e15-5306-4168-9786-944528de1fdf",
   "metadata": {},
   "source": [
    "Расмотрим статистику для определения возможных метрик для тестирования\\\n",
    "Сгруппируем данные по форме организации бизнеса, выведим следующие признаки:\n",
    "1. total_count - общее количество продавцов\n",
    "2. fraud_count - количество мошенников\n",
    "3. activation_sum - количество активаций\n",
    "4. fraud_activation_sum - количество активаций мошенников\n",
    "5. avg_activation_time - среднее время активации в днях\n",
    "5. fraud_avg_activation_time - среднее время активации мошенников в днях"
   ]
  },
  {
   "cell_type": "code",
   "execution_count": 84,
   "id": "0d93f6d4-0252-4b33-be28-d3969bed2540",
   "metadata": {},
   "outputs": [],
   "source": [
    "df1 = df_f.groupby('type')['merchant_id'].nunique().reset_index(name='total_count')\n",
    "df2 = df_f[df_f['ind_frod'] == 1].groupby('type')['merchant_id']\\\n",
    "                                 .nunique().reset_index(name='fraud_count')\n",
    "df3 = df_f[df_f['activation_ind'] == 1].groupby('type')['activation_ind']\\\n",
    "                                 .sum().reset_index(name='activation_sum')\n",
    "df4 = df_f[(df_f['activation_ind'] == 1) & (df_f['ind_frod'] == 1)]\\\n",
    "                                 .groupby('type')['activation_ind'].sum()\\\n",
    "                                 .reset_index(name='fraud_activation_sum')\n",
    "df5 = df_f.groupby('type')['activation_time'].mean()\\\n",
    "                                 .reset_index(name='avg_activation_time')\n",
    "df6 = df_f[df_f['ind_frod'] == 1].groupby('type')['activation_time']\\\n",
    "                                 .mean().reset_index(name='fraud_avg_activation_time')\n",
    "\n",
    "result = pd.merge(df1, df2, on='type', how='left')\n",
    "result = pd.merge(result, df3, on='type', how='left')\n",
    "result = pd.merge(result, df4, on='type', how='left')\n",
    "result = pd.merge(result, df5, on='type', how='left')\n",
    "result = pd.merge(result, df6, on='type', how='left')\n"
   ]
  },
  {
   "cell_type": "markdown",
   "id": "d02424fb-5441-4574-8e52-8684dd89e529",
   "metadata": {},
   "source": [
    "Вычисляем сумму для всех столбцов"
   ]
  },
  {
   "cell_type": "code",
   "execution_count": null,
   "id": "3363f663",
   "metadata": {},
   "outputs": [],
   "source": [
    "total_row = {\n",
    "    'type': 'Total',\n",
    "    'total_count': result['total_count'].sum(),\n",
    "    'fraud_count': result['fraud_count'].sum(),\n",
    "    'activation_sum': result['activation_sum'].sum(),\n",
    "    'fraud_activation_sum': result['fraud_activation_sum'].sum(),\n",
    "    'avg_activation_time': result['avg_activation_time'].mean(),\n",
    "    'fraud_avg_activation_time': result['fraud_avg_activation_time'].mean()\n",
    "}\n",
    "result = result.append(total_row, ignore_index=True)"
   ]
  },
  {
   "cell_type": "markdown",
   "id": "2589969c-338a-4a3f-9055-ebe5ef0423f9",
   "metadata": {},
   "source": [
    "Расчитаем процент"
   ]
  },
  {
   "cell_type": "code",
   "execution_count": 87,
   "id": "c1c9cbde-7839-43ca-9f67-58378561cd4a",
   "metadata": {},
   "outputs": [],
   "source": [
    "result['fraud_count_%'] = round(100 * result['fraud_count']\\\n",
    "                                   / result['total_count'],2)\n",
    "result['activation_sum_%'] = round(100 * result['activation_sum']\\\n",
    "                                   / result['total_count'],2)\n",
    "result['fraud_activation_sum_%'] = round(100 * result['fraud_activation_sum']\\\n",
    "                                   / result['total_count'],2)"
   ]
  },
  {
   "cell_type": "markdown",
   "id": "96c06c46-c0ad-4112-a7ba-aed264d6e878",
   "metadata": {},
   "source": [
    "Результирующая таблица\n",
    "\n",
    "Пройдемся по воронке продавцов выборки - 34108.\\\n",
    "8,24% от от всех продавцов модель определяет как мошенник.\\\n",
    "Больший процент определяется для продавцов по форме 'ИП' 9,61%, меньше 4,69% для формы 'ООО'.\\\n",
    "Cчитаем, что человек и модель определяют фрод безошибочно.\\\n",
    "Новая модель будет считатья лучше старой, когда данный процент будет выше 8,24%.\n",
    "\n",
    "58,04% от всех продавцов получают статус активации.\\\n",
    "Дополнителья метрика качества новой модели, это процент активации мошенников.\\\n",
    "Сейчас 4,69%, новая модель считается лучше если выдаст процент меньше данной цифры."
   ]
  },
  {
   "cell_type": "code",
   "execution_count": 88,
   "id": "68484582-1cf5-41cc-a75e-a5e025bca3a8",
   "metadata": {},
   "outputs": [
    {
     "data": {
      "text/html": [
       "<div>\n",
       "<style scoped>\n",
       "    .dataframe tbody tr th:only-of-type {\n",
       "        vertical-align: middle;\n",
       "    }\n",
       "\n",
       "    .dataframe tbody tr th {\n",
       "        vertical-align: top;\n",
       "    }\n",
       "\n",
       "    .dataframe thead th {\n",
       "        text-align: right;\n",
       "    }\n",
       "</style>\n",
       "<table border=\"1\" class=\"dataframe\">\n",
       "  <thead>\n",
       "    <tr style=\"text-align: right;\">\n",
       "      <th></th>\n",
       "      <th>type</th>\n",
       "      <th>total_count</th>\n",
       "      <th>fraud_count</th>\n",
       "      <th>activation_sum</th>\n",
       "      <th>fraud_activation_sum</th>\n",
       "      <th>avg_activation_time</th>\n",
       "    </tr>\n",
       "  </thead>\n",
       "  <tbody>\n",
       "    <tr>\n",
       "      <th>0</th>\n",
       "      <td>IE</td>\n",
       "      <td>24583</td>\n",
       "      <td>2363</td>\n",
       "      <td>14256</td>\n",
       "      <td>1362</td>\n",
       "      <td>5.986813</td>\n",
       "    </tr>\n",
       "    <tr>\n",
       "      <th>1</th>\n",
       "      <td>LLC</td>\n",
       "      <td>9525</td>\n",
       "      <td>447</td>\n",
       "      <td>5541</td>\n",
       "      <td>237</td>\n",
       "      <td>6.091500</td>\n",
       "    </tr>\n",
       "    <tr>\n",
       "      <th>2</th>\n",
       "      <td>Total</td>\n",
       "      <td>34108</td>\n",
       "      <td>2810</td>\n",
       "      <td>19797</td>\n",
       "      <td>1599</td>\n",
       "      <td>6.039156</td>\n",
       "    </tr>\n",
       "  </tbody>\n",
       "</table>\n",
       "</div>"
      ],
      "text/plain": [
       "    type  total_count  fraud_count  activation_sum  fraud_activation_sum  \\\n",
       "0     IE        24583         2363           14256                  1362   \n",
       "1    LLC         9525          447            5541                   237   \n",
       "2  Total        34108         2810           19797                  1599   \n",
       "\n",
       "   avg_activation_time  \n",
       "0             5.986813  \n",
       "1             6.091500  \n",
       "2             6.039156  "
      ]
     },
     "execution_count": 88,
     "metadata": {},
     "output_type": "execute_result"
    }
   ],
   "source": [
    "result.iloc[:, :6].head()"
   ]
  },
  {
   "cell_type": "code",
   "execution_count": 92,
   "id": "5f707825",
   "metadata": {},
   "outputs": [
    {
     "data": {
      "text/html": [
       "<div>\n",
       "<style scoped>\n",
       "    .dataframe tbody tr th:only-of-type {\n",
       "        vertical-align: middle;\n",
       "    }\n",
       "\n",
       "    .dataframe tbody tr th {\n",
       "        vertical-align: top;\n",
       "    }\n",
       "\n",
       "    .dataframe thead th {\n",
       "        text-align: right;\n",
       "    }\n",
       "</style>\n",
       "<table border=\"1\" class=\"dataframe\">\n",
       "  <thead>\n",
       "    <tr style=\"text-align: right;\">\n",
       "      <th></th>\n",
       "      <th>fraud_avg_activation_time</th>\n",
       "      <th>fraud_count_%</th>\n",
       "      <th>activation_sum_%</th>\n",
       "      <th>fraud_activation_sum_%</th>\n",
       "    </tr>\n",
       "  </thead>\n",
       "  <tbody>\n",
       "    <tr>\n",
       "      <th>0</th>\n",
       "      <td>5.864170</td>\n",
       "      <td>9.61</td>\n",
       "      <td>57.99</td>\n",
       "      <td>5.54</td>\n",
       "    </tr>\n",
       "    <tr>\n",
       "      <th>1</th>\n",
       "      <td>6.278481</td>\n",
       "      <td>4.69</td>\n",
       "      <td>58.17</td>\n",
       "      <td>2.49</td>\n",
       "    </tr>\n",
       "    <tr>\n",
       "      <th>2</th>\n",
       "      <td>6.071326</td>\n",
       "      <td>8.24</td>\n",
       "      <td>58.04</td>\n",
       "      <td>4.69</td>\n",
       "    </tr>\n",
       "  </tbody>\n",
       "</table>\n",
       "</div>"
      ],
      "text/plain": [
       "   fraud_avg_activation_time  fraud_count_%  activation_sum_%  \\\n",
       "0                   5.864170           9.61             57.99   \n",
       "1                   6.278481           4.69             58.17   \n",
       "2                   6.071326           8.24             58.04   \n",
       "\n",
       "   fraud_activation_sum_%  \n",
       "0                    5.54  \n",
       "1                    2.49  \n",
       "2                    4.69  "
      ]
     },
     "execution_count": 92,
     "metadata": {},
     "output_type": "execute_result"
    }
   ],
   "source": [
    "result.iloc[:, 6:].head()"
   ]
  },
  {
   "cell_type": "markdown",
   "id": "2b1c5a19-d6e6-43b4-85a0-fe7732a19baf",
   "metadata": {},
   "source": [
    "## 1.1 Формулирование гипотезы"
   ]
  },
  {
   "cell_type": "markdown",
   "id": "d407d17f-2341-4644-824e-6e1dc7052cb4",
   "metadata": {},
   "source": [
    "Нулевая гипотеза (H0):\\\n",
    "**H0**: Доля мошенников, выявленных новой моделью, не больше доли мошенников, выявленных старой моделью.\n",
    "\n",
    "Альтернативная гипотеза (H1):\\\n",
    "**H1**: Доля мошенников, выявленных новой моделью, больше доли мошенников, выявленных старой моделью."
   ]
  },
  {
   "cell_type": "markdown",
   "id": "f197ed0e-6839-4db7-a11c-d9c4093f4033",
   "metadata": {},
   "source": [
    "Дополнительная метрика (доля активаций мошенников) \n",
    "\n",
    "Нулевая гипотеза (H0):\\\n",
    "**H0**: Доля активаций мошенников в тестовой группе (новая модель) не больше доли активаций мошенников в контрольной группе (старая модель).\n",
    "\n",
    "Альтернативная гипотеза (H1):\\\n",
    "**H1**: Доля активаций мошенников в тестовой группе (новая модель) больше доли активаций мошенников в контрольной группе (старая модель)."
   ]
  },
  {
   "cell_type": "markdown",
   "id": "50808480-0e89-4b9f-bde0-4c526508328c",
   "metadata": {},
   "source": [
    "## 1.2 Определение необходимого количества наблюдений и продолжительности теста "
   ]
  },
  {
   "cell_type": "markdown",
   "id": "644f9541-9cd3-4950-a781-5b318eb66724",
   "metadata": {},
   "source": [
    "Остановимся на одностороннем тесте\\\n",
    "При использовании одностороннего теста проверяем, является ли доля мошенников в тестовой группе больше, чем в контрольной группе.\\\n",
    "Это позволяет увеличить мощность теста или уменьшить необходимый размер выборки при сохранении того же уровня значимости."
   ]
  },
  {
   "cell_type": "code",
   "execution_count": null,
   "id": "1911b003-ff83-482a-8bc2-4b0d80bd5e5d",
   "metadata": {},
   "outputs": [],
   "source": [
    "Проведем расчет мощности теста, который учитывает несколько параметров:\n",
    "Входные данные:\n",
    "baseline = 0.0824 - доля мошенников определенные моделью на исторических данных\n",
    "MDE = 0.03 - минимальный эффект (абсолют)\n",
    "alpha = 0.05 - уровень значимости\n",
    "power = 0.8 - мощность теста"
   ]
  },
  {
   "cell_type": "markdown",
   "id": "104e47a5-dbcd-41e6-9d4e-3ec1b209eca6",
   "metadata": {},
   "source": [
    "Расчет размера выборки"
   ]
  },
  {
   "cell_type": "code",
   "execution_count": 347,
   "id": "1124746a-9122-4fce-a961-027eec49ea47",
   "metadata": {},
   "outputs": [
    {
     "name": "stdout",
     "output_type": "stream",
     "text": [
      "Необходимое количество наблюдений на каждую группу: 1038\n"
     ]
    }
   ],
   "source": [
    "from statsmodels.stats.power import NormalIndPower\n",
    "\n",
    "analysis = NormalIndPower()\n",
    "effect_size = MDE / ((baseline * (1 - baseline)) ** 0.5)\n",
    "sample_size_per_group = analysis.solve_power(effect_size=effect_size, alpha=alpha,\n",
    "                                             power=power, alternative='larger')\n",
    "\n",
    "print(f\"Необходимое количество наблюдений на каждую группу: {int(sample_size_per_group)}\")"
   ]
  },
  {
   "cell_type": "markdown",
   "id": "ffbf602a-9712-477a-92f6-92785b2839f3",
   "metadata": {},
   "source": [
    "Расчет продолжительности теста"
   ]
  },
  {
   "cell_type": "code",
   "execution_count": 353,
   "id": "a4b74833-7849-4057-a5ff-04ae3409113b",
   "metadata": {},
   "outputs": [
    {
     "name": "stdout",
     "output_type": "stream",
     "text": [
      "Необходимое количество дней для проведения теста: 21\n"
     ]
    }
   ],
   "source": [
    "total_observations_needed = 2 * sample_size_per_group\n",
    "registrations_per_month = 2900 # цифра на основе данных выборки, среднее по регистрациям за месяц\n",
    "\n",
    "# Расчет времени в днях\n",
    "months_needed = int(round(total_observations_needed / registrations_per_month * 30, 0))\n",
    "print(f\"Необходимое количество дней для проведения теста: {months_needed}\")"
   ]
  },
  {
   "cell_type": "markdown",
   "id": "408cb27a-ef84-46e7-a97e-d22ca7b023c9",
   "metadata": {},
   "source": [
    "## 1.3 Сбор данных"
   ]
  },
  {
   "cell_type": "markdown",
   "id": "af6aeb3c-70ec-4b14-a430-a0f3c9c87a2b",
   "metadata": {},
   "source": [
    "**Применение моделей**:\\\n",
    "В контрольной группе используем старую модель для определения мошенников.\\\n",
    "В тестовой группе используем новую модель для определения мошенников.\n",
    "\n",
    "**Сбор данных**:\\\n",
    "Сбор данных по мере регистрации и активации продавцов в обеих группах.\\\n",
    "Проверяем, что группы сбалансированы по ключевой характеристике, по форме бизнес-организации (IE и LLC)."
   ]
  },
  {
   "cell_type": "markdown",
   "id": "1ec8a1df-6336-4c0f-8670-9eac1c629a44",
   "metadata": {},
   "source": [
    "## 1.4 Проведение теста"
   ]
  },
  {
   "cell_type": "markdown",
   "id": "2052e077-4c62-4fde-b3c2-eaf7ebf114a5",
   "metadata": {},
   "source": [
    "#### Основная метрика (доля регистрации мошенников)"
   ]
  },
  {
   "cell_type": "markdown",
   "id": "59bbf866-db5a-4e30-9500-ed1ad1cb1626",
   "metadata": {},
   "source": [
    "Для проверки гипотезы используем Z-тест для пропорций, так как мы сравниваем доли мошенников между двумя группами.\n",
    "\n",
    "Определение параметров\n",
    "\n",
    "Количество мошенников в контрольной группе**: `cnt_frod_control`\\\n",
    "Количество мошенников в тестовой группе**: `cnt_frod_test`\\\n",
    "Общее количество наблюдений в контрольной группе**: `cnt_control`\\\n",
    "Общее количество наблюдений в тестовой группе**: `cnt_test`"
   ]
  },
  {
   "cell_type": "code",
   "execution_count": null,
   "id": "947e2831",
   "metadata": {},
   "outputs": [],
   "source": [
    "from statsmodels.stats.proportion import proportions_ztest"
   ]
  },
  {
   "cell_type": "markdown",
   "id": "02f5fe45",
   "metadata": {},
   "source": [
    "Количество мошенников и общее количество наблюдений в каждой группе"
   ]
  },
  {
   "cell_type": "code",
   "execution_count": null,
   "id": "954fe863-2bba-43f1-87e1-8629c5ceb756",
   "metadata": {},
   "outputs": [],
   "source": [
    "cnt_frod_control = df[(df['group'] == 'A') & (df['ind_frod'] == 1)]\\\n",
    "                                          ['merchant_id'].nunique()\n",
    "cnt_frod_test = df[(df['group'] == 'B') & (df['ind_frod'] == 1)]\\\n",
    "                                          ['merchant_id'].nunique()\n",
    "cnt_control = df[df['group'] == 'A']['merchant_id'].nunique()\n",
    "cnt_test = df[df['group'] == 'B']['merchant_id'].nunique()"
   ]
  },
  {
   "cell_type": "markdown",
   "id": "98987e75",
   "metadata": {},
   "source": [
    "Проведение Z-теста для пропорций (односторонний тест)"
   ]
  },
  {
   "cell_type": "code",
   "execution_count": null,
   "id": "a69ed852",
   "metadata": {},
   "outputs": [],
   "source": [
    "stat, p_value = proportions_ztest([cnt_frod_test, cnt_frod_control],\n",
    "                                  [cnt_test, cnt_control], alternative='larger')\n",
    "print(f\"P-значение: {p_value}\")"
   ]
  },
  {
   "cell_type": "markdown",
   "id": "778e21e8-d78d-48c8-9692-f2c7092e1103",
   "metadata": {},
   "source": [
    "#### Дополнительная метрика (доля активаций мошенников)\n",
    "Для проверки дополнительной гипотезы используем аналогичный подход,\\\n",
    "сравнивая доли активаций мошенников между группами."
   ]
  },
  {
   "cell_type": "markdown",
   "id": "f840e240",
   "metadata": {},
   "source": [
    "Количество активаций мошенников и общее количество наблюдений в каждой группе"
   ]
  },
  {
   "cell_type": "code",
   "execution_count": null,
   "id": "403e76cf",
   "metadata": {},
   "outputs": [],
   "source": [
    "cnt_activation_control = df[(df['group'] == 'A') & \\\n",
    "                            (df['activation_ind'] == 1) & (df['ind_frod'] == 1)]\\\n",
    "                            ['activation_ind'].sum()\n",
    "cnt_activation_test = df[(df['group'] == 'B') & (df['activation_ind'] == 1) & \\\n",
    "                         (df['ind_frod'] == 1)]['activation_ind'].sum()"
   ]
  },
  {
   "cell_type": "markdown",
   "id": "ffd98a34",
   "metadata": {},
   "source": [
    "Проведение Z-теста для пропорций (односторонний тест)"
   ]
  },
  {
   "cell_type": "code",
   "execution_count": null,
   "id": "14d70ee0",
   "metadata": {},
   "outputs": [],
   "source": [
    "stat_activation, p_value_activation = proportions_ztest([cnt_activation_test, cnt_activation_control], [cnt_test, cnt_control], alternative='larger')\n",
    "print(f\"P-значение (активации): {p_value_activation}\")"
   ]
  },
  {
   "cell_type": "markdown",
   "id": "b3ca21d4-6948-4799-857a-daf9745e2a3c",
   "metadata": {},
   "source": [
    "## 1.5 Выводы"
   ]
  },
  {
   "cell_type": "markdown",
   "id": "87cca5ab-0b32-4252-9dff-9750fbf40c67",
   "metadata": {},
   "source": [
    "1. Если p-значение < 0.05:\\\n",
    "Новая модель показывает значительное улучшение в выявлении мошенников по сравнению со старой моделью.\\\n",
    "Рекомендуется внедрить новую модель.\n",
    "\n",
    "2. Если p-значение ≥ 0.05:\\\n",
    "Новая модель не показывает значительного улучшения в выявлении мошенников.\\\n",
    "Возможно, потребуется дополнительная оптимизация модели или пересмотр гипотезы.\n",
    "\n",
    "Дополнительная метрика (доля активаций мошенников):\n",
    "\n",
    "3. Если p-значение < 0.05:\\\n",
    "Новая модель успешно увеличивает долю активаций мошенников по сравнению со старой моделью.\\\n",
    "Это дополнительное подтверждение эффективности новой модели.\n",
    "\n",
    "4. Если p-значение ≥ 0.05:\\\n",
    "Новая модель не увеличивает долю активаций мошенников значительным образом.\\\n",
    "Возможно, потребуется дополнительный анализ и оптимизация модели.\n"
   ]
  },
  {
   "cell_type": "markdown",
   "id": "4a34db44-773f-4c0a-bc71-ac8379699f93",
   "metadata": {},
   "source": [
    "## 1.6 Дополнительно"
   ]
  },
  {
   "cell_type": "markdown",
   "id": "b6892d86-31f8-4f8c-aa19-d2dd771458fe",
   "metadata": {},
   "source": [
    "#### Сокращение времени проведения A/B-теста "
   ]
  },
  {
   "cell_type": "markdown",
   "id": "a073015c-c3c4-4ecb-95ff-5d9419e10c66",
   "metadata": {},
   "source": [
    "1. Увеличение размера выборки\\\n",
    "Увеличение размера выборки позволяет привлечь больше участников за короткий период, это поможет сократить время теста.\n",
    "\n",
    "2. Использование одностороннего теста\\\n",
    "Односторонний тест требует меньшего размера выборки для достижения той же мощности, что и двусторонний тест.\n",
    "\n",
    "3. Использование исторических данных\n",
    "Использование исторических данных для предварительного анализа может помочь понять текущие тенденции и сократить время тестирования.\\\n",
    "Например вычислить baseline основной метрики.\n",
    "\n",
    "4. Адаптивный метод тестирования\n",
    "Адаптивный метод, Sequential Testing, позволяет прекратить тестирование раньше, если достигаются значимые результаты.\n"
   ]
  },
  {
   "cell_type": "markdown",
   "id": "4b74ee57-d020-4ed4-bf58-86e9d1cdcd86",
   "metadata": {},
   "source": [
    "#### Уменьшение дисперси\n",
    "Снижение дисперсии позволяет уменьшить необходимый размер выборки и повысить статистическую мощность теста."
   ]
  },
  {
   "cell_type": "markdown",
   "id": "f93fd727-1cb5-4cf4-b4dc-e628dd4b8cb1",
   "metadata": {},
   "source": [
    "1. Стратифицированная рандомизация\\\n",
    "Стратифицированная рандомизация позволяет разделить участников на подгруппы (страты) на основе ключевых характеристик перед случайным распределением в контрольную и тестовую группы.\\\n",
    "Это помогает обеспечить равномерное распределение участников и уменьшить дисперсию.\n",
    "\n",
    "2. Удаление выбросов\\\n",
    "Удаление аномальных значений (выбросов) из данных может помочь уменьшить дисперсию и сделать данные более однородными.\n"
   ]
  },
  {
   "cell_type": "markdown",
   "id": "80754808-1734-4763-8266-7f6fc571893a",
   "metadata": {},
   "source": [
    "## 1.7 Заключение"
   ]
  },
  {
   "cell_type": "markdown",
   "id": "3d327159-6815-46d7-913a-0e599e471d8b",
   "metadata": {},
   "source": [
    "Проведен анализ исходной выборки. Подготовлены данные, удалены выбросы.\\\n",
    "Для проверки новой модели выбрана основная метрика - доля регистрации мошенников и дополнительная - доля активированных мошенников.\\\n",
    "Расчитаны необходимый размер группы - 1038 и продолжительность теста 21 день. \\\n",
    "Использование одностороннего теста позволяет увеличить мощность теста.\\\n",
    "Для проверки гипотезы используем Z-тест для пропорций.\\\n",
    "Расчитываем p-значение для основной и дполнительной метрики. Делаем выводы об эффективности новой модели.\\\n",
    "Дополнительно приведены меры по уменьшению дисперсии и сокращению времени теста.  "
   ]
  },
  {
   "cell_type": "markdown",
   "id": "647bf107-706a-4d6e-be45-bf857d96e6ef",
   "metadata": {},
   "source": [
    "## 2. Ответы на продуктовые вопросы"
   ]
  },
  {
   "cell_type": "markdown",
   "id": "8138d2de-343f-495e-9420-bf2ef7f8923e",
   "metadata": {},
   "source": [
    "#### 1. Как определить, какой продавец мошенник, а какой — нет? Какие ещё могут быть схемы мошенничества?"
   ]
  },
  {
   "cell_type": "markdown",
   "id": "a259bc83-7471-4291-a2cd-295f14f76587",
   "metadata": {},
   "source": [
    "**Строгая верификация продавцов**: Улучшение процесса проверки продавцов при регистрации, включая проверку документов и дополнительных данных.\n",
    "\n",
    "На первом этапе регистрации включить проверку не только номера ИНН, но и самого документа скана ИНН для подтверждения наличия данного документа. Процесс возможно автоматизировать.\n",
    "Данный признак позволит исключить тех, кто не умеет фоторедактивровать/подделывать документы и тех у кого их нет в наличии.\n",
    "\n",
    "**Использование трекеров поведения мошенников**: \n",
    "Проведение анализа действий продавцов и покупателей на платформе.\n",
    "\n",
    "Признаки поведения мошенника:\n",
    "1. Высокая скорость добавления карточек. \n",
    "2. Низкая стоимость по сравнению с аналогичными товарами\n",
    "3. Короткий срок между создланием карточки товара и предоставлением скидки\n",
    "4. Низкий LIFETINE продавца - дата регистрации продавца, сколько дней на маркете\n",
    "5. Часто отправляет сообщения продавцам на внешние ресурсы\n",
    "\n",
    "\n"
   ]
  },
  {
   "cell_type": "markdown",
   "id": "37de8dfa",
   "metadata": {},
   "source": [
    "Еще схема мошенничества - **Фальшивые отзывы и рейтинги**:\n",
    "   - **Положительные отзывы:** Мошенники могут создавать фальшивые учетные записи для написания положительных отзывов о своих товарах и повышения рейтинга.\n",
    "   - **Негативные отзывы:** Мошенники могут оставлять негативные отзывы о товарах конкурентов, чтобы уменьшить их рейтинг и привлечь покупателей к своим товарам."
   ]
  },
  {
   "cell_type": "markdown",
   "id": "f8cb597d-2ffa-4a8f-8c6d-91f9aa550d8d",
   "metadata": {},
   "source": [
    "#### 2. Какие продуктовые фичи могут помочь нашим клиентам избежать неприятных ситуаций с мошенничеством?"
   ]
  },
  {
   "cell_type": "markdown",
   "id": "20afdaee",
   "metadata": {},
   "source": [
    "**Коммуникация и информирование покупателя:**\n",
    "   - **Уведомления о подозрительных действиях:** Всплывающее окно предупреждение, что уходим с маркета на внешние непроверенные ресурсы. Будьте внимательны.\n",
    "   - **Предупреждения о скидках:** Всплывающее окно по определению цены по сравнению с товарами одной категории/вида. Предупреждение что цена находится в аномально низкой красной зоне.\n",
    " \n",
    "**Верификация продавцов:**\n",
    "   - **Значок \"Проверенный продавец\":** Отличительный значок для проверенных продавцов, прошедших многоуровневую верификацию.\n",
    "   - **Информация о продавце:** Показ подробной информации о продавце, включая дату регистрации, количество продаж, рейтинг и отзывы.\n",
    "\n",
    "**Форма подозрение:**\n",
    "   - **Проверим продавца за Вас\":** Простая форма для пользователей, позволяющая сообщать о подозрительных сообщениях и ссылках. Далее проверка продавца вручную или моделью на стороне Маркета. "
   ]
  },
  {
   "cell_type": "markdown",
   "id": "5d5f389d",
   "metadata": {},
   "source": [
    "\n",
    "#### 3. Через какую механику мошенник узнает контакты покупателя? Что можем сделать, чтобы усложнить жизнь фродерам?"
   ]
  },
  {
   "cell_type": "markdown",
   "id": "f2dd5330",
   "metadata": {},
   "source": [
    "1. Украденные базы данных регистраций покупателей. \n",
    "2. В личных сообщения с покупателем."
   ]
  },
  {
   "cell_type": "markdown",
   "id": "2a35b2fd",
   "metadata": {},
   "source": [
    " - **Мониторинг сообщений**: Внедрить системы анализа сообщений между продавцами и покупателями на предмет подозрительных предложений о переходе на внешние сайты.\n",
    "\n",
    " - **Обучение пользователей**: Информировать пользователей о том, что все транзакции и общение должны происходить исключительно через платформу маркетплейса.\n",
    "\n",
    " - **Фальшивые сайты**: Мошенники создают поддельные сайты, которые выглядят как настоящие маркетплейсы, и убеждают пользователей вводить свои контактные данные."
   ]
  }
 ],
 "metadata": {
  "kernelspec": {
   "display_name": "Python 3 (ipykernel)",
   "language": "python",
   "name": "python3"
  },
  "language_info": {
   "codemirror_mode": {
    "name": "ipython",
    "version": 3
   },
   "file_extension": ".py",
   "mimetype": "text/x-python",
   "name": "python",
   "nbconvert_exporter": "python",
   "pygments_lexer": "ipython3",
   "version": "3.11.4"
  }
 },
 "nbformat": 4,
 "nbformat_minor": 5
}
